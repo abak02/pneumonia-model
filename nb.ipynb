{
 "cells": [
  {
   "cell_type": "code",
   "execution_count": 1,
   "metadata": {},
   "outputs": [
    {
     "name": "stdout",
     "output_type": "stream",
     "text": [
      "5\n"
     ]
    }
   ],
   "source": [
    "print(1+4)"
   ]
  },
  {
   "cell_type": "code",
   "execution_count": 12,
   "metadata": {},
   "outputs": [],
   "source": [
    "import cv2\n",
    "\n",
    "# Load the image\n",
    "image = cv2.imread(\"chest_xray/update_train/PNEUMONIA/train_pneumonia_crop_img_3.jpeg\")\n",
    "\n",
    "# Convert to grayscale\n",
    "gray = cv2.cvtColor(image, cv2.COLOR_BGR2GRAY)\n",
    "\n",
    "# Threshold the image\n",
    "thresh = cv2.threshold(gray, 0, 255, cv2.THRESH_BINARY_INV + cv2.THRESH_OTSU)[1]\n",
    "\n",
    "# Find contours\n",
    "contours, _ = cv2.findContours(thresh, cv2.RETR_EXTERNAL, cv2.CHAIN_APPROX_SIMPLE)\n",
    "\n",
    "# Sort contours by area in descending order\n",
    "contours = sorted(contours, key=cv2.contourArea, reverse=True)\n",
    "\n",
    "# Get the largest contour\n",
    "largest_contour = contours[0]\n",
    "\n",
    "# Find the leftmost and rightmost points of the contour\n",
    "leftmost = tuple(largest_contour[largest_contour[:, :, 0].argmin()][0])\n",
    "rightmost = tuple(largest_contour[largest_contour[:, :, 0].argmax()][0])\n",
    "\n",
    "# Crop the image between the leftmost and rightmost points\n",
    "cropped_image = image[:, leftmost[0]:leftmost[0]-rightmost[0]]\n",
    "\n",
    "# Display the cropped image\n",
    "cv2.imshow(\"Cropped Image\", cropped_image)\n",
    "cv2.waitKey(0)\n",
    "cv2.destroyAllWindows()\n"
   ]
  },
  {
   "cell_type": "code",
   "execution_count": 20,
   "metadata": {},
   "outputs": [],
   "source": [
    "import cv2\n",
    "\n",
    "# Load the image\n",
    "image = cv2.imread(\"chest_xray/update_train/PNEUMONIA/train_pneumonia_crop_img_1.jpeg\")\n",
    "\n",
    "# Convert to grayscale\n",
    "gray = cv2.cvtColor(image, cv2.COLOR_BGR2GRAY)\n",
    "\n",
    "# Threshold the image\n",
    "thresh = cv2.threshold(gray, 0, 255, cv2.THRESH_BINARY_INV + cv2.THRESH_OTSU)[1]\n",
    "\n",
    "# Find contours\n",
    "contours, _ = cv2.findContours(thresh, cv2.RETR_EXTERNAL, cv2.CHAIN_APPROX_SIMPLE)\n",
    "\n",
    "# Sort contours by area in descending order\n",
    "contours = sorted(contours, key=cv2.contourArea, reverse=True)\n",
    "\n",
    "# Get the two largest contours\n",
    "largest_contour = contours[0]\n",
    "second_largest_contour = contours[1]\n",
    "\n",
    "# Get the bounding boxes of the two largest contours\n",
    "x1, y1, w1, h1 = cv2.boundingRect(largest_contour)\n",
    "x2, y2, w2, h2 = cv2.boundingRect(second_largest_contour)\n",
    "\n",
    "# Crop the image to the bounding boxes of the two largest contours\n",
    "cropped_image = image[min(y1, y2):max(y1 + h1, y2 + h2), min(x1, x2):max(x1 + w1, x2 + w2)]\n",
    "\n",
    "# Display the cropped image\n",
    "cv2.imshow(\"Cropped Image\", cropped_image)\n",
    "cv2.waitKey(0)\n",
    "cv2.destroyAllWindows()\n"
   ]
  },
  {
   "cell_type": "code",
   "execution_count": 19,
   "metadata": {},
   "outputs": [],
   "source": [
    "import cv2\n",
    "\n",
    "# Load the image\n",
    "image = cv2.imread(\"chest_xray/update_train/PNEUMONIA/train_pneumonia_crop_img_1.jpeg\")\n",
    "\n",
    "# Convert to grayscale\n",
    "gray = cv2.cvtColor(image, cv2.COLOR_BGR2GRAY)\n",
    "\n",
    "# Threshold the image\n",
    "thresh = cv2.threshold(gray, 0, 255, cv2.THRESH_BINARY_INV + cv2.THRESH_OTSU)[1]\n",
    "\n",
    "# Find contours\n",
    "contours, _ = cv2.findContours(thresh, cv2.RETR_EXTERNAL, cv2.CHAIN_APPROX_SIMPLE)\n",
    "\n",
    "# Sort contours by area in descending order\n",
    "contours = sorted(contours, key=cv2.contourArea, reverse=True)\n",
    "\n",
    "# Get the two largest contours\n",
    "largest_contour = contours[0]\n",
    "second_largest_contour = contours[1]\n",
    "\n",
    "# Draw the two largest contours on the original image\n",
    "cv2.drawContours(image, [largest_contour, second_largest_contour], -1, (0, 255, 0), 2)\n",
    "\n",
    "# Display the image\n",
    "cv2.imshow(\"Largest Contours\", image)\n",
    "cv2.waitKey(0)\n",
    "cv2.destroyAllWindows()\n"
   ]
  }
 ],
 "metadata": {
  "kernelspec": {
   "display_name": "Python 3",
   "language": "python",
   "name": "python3"
  },
  "language_info": {
   "codemirror_mode": {
    "name": "ipython",
    "version": 3
   },
   "file_extension": ".py",
   "mimetype": "text/x-python",
   "name": "python",
   "nbconvert_exporter": "python",
   "pygments_lexer": "ipython3",
   "version": "3.11.0"
  },
  "orig_nbformat": 4,
  "vscode": {
   "interpreter": {
    "hash": "d0c2cc0d171955a1b82407076a375743b51c2b5eeb936c9ae4804317b47c3ecd"
   }
  }
 },
 "nbformat": 4,
 "nbformat_minor": 2
}
